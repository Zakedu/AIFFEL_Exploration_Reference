{
  "nbformat": 4,
  "nbformat_minor": 0,
  "metadata": {
    "accelerator": "GPU",
    "colab": {
      "name": "news_briefing_model",
      "provenance": [],
      "collapsed_sections": [],
      "machine_shape": "hm",
      "authorship_tag": "ABX9TyPRdBsCa6Up/w5XNlbPJQGL",
      "include_colab_link": true
    },
    "kernelspec": {
      "display_name": "Python 3",
      "name": "python3"
    }
  },
  "cells": [
    {
      "cell_type": "markdown",
      "metadata": {
        "id": "view-in-github",
        "colab_type": "text"
      },
      "source": [
        "<a href=\"https://colab.research.google.com/github/Zakedu/AIFFEL_Exploration_Reference/blob/main/news_briefing_fin.ipynb\" target=\"_parent\"><img src=\"https://colab.research.google.com/assets/colab-badge.svg\" alt=\"Open In Colab\"/></a>"
      ]
    },
    {
      "cell_type": "markdown",
      "metadata": {
        "id": "T3eNtjgjllAb"
      },
      "source": [
        "#뉴스기사 요약해보기\n",
        "\n",
        "##Step 1. 데이터 수집하기\n",
        "##Step 2. 데이터 전처리하기 (추상적 요약)\n",
        " 1) 실습 전처리\n",
        " 2) 필요하다고 생각하는 전처리\n",
        " 단, 불용어 제거시 상대적으로 짧은 요약 데이터에 대해서 불용어 제거할 것인지 고민할 것\n",
        "##Step 3. 어텐션 메커니즘 사용하기 (추상적 요약)\n",
        " 1) 시퀀스2시퀀스보다 어텐션 메커니즘이 좀 더 나은 성능 보임\n",
        " 어텐션 메커니즘 설계해 볼 것\n",
        "##Step 4. 실제 결과와 요약문 비교하기 (추상적 요약)\n",
        " 1) 원래의 요약문(헤드라인열) 과 학습을 통해 얻은 추상적 요약의 결과를 비교할 것\n",
        "##Step 5. Summa을 이용해서 추출적 요약해보기\n",
        " 1) 추상적 요약은 추출적 요약과 달리 문장의 표현력을 다양하게 가져갈 수 있지만, 난도가 높음\n",
        "   반대로 말하면 추출적 요약은 추상적 요약에 비해 난도가 낮고 기존 문장에서 문장을 꺼내오기 때문에 잘못된 요약이 나올 가능성이 낮음.\n",
        "   summa 의 summarize 를 사용하여 추출적 요약해볼 것.\n",
        "\n",
        "   \n",
        "\n"
      ]
    },
    {
      "cell_type": "code",
      "metadata": {
        "colab": {
          "base_uri": "https://localhost:8080/"
        },
        "id": "86GU90r7nHMl",
        "outputId": "437b31d4-ce87-43db-e62f-1997f8c0bacb"
      },
      "source": [
        "#NLTK Lib install\n",
        "!pip install nltk\n",
        "\n",
        "#BeautifulSoup lib install\n",
        "!pip install beautifulsoup4\n",
        "\n",
        "#불용어 사전 다운로드\n",
        "import nltk\n",
        "nltk.download('stopwords')\n",
        "\n",
        "#데이터 전처리 위한 나머지 패키지 로드\n",
        "import numpy as np\n",
        "import pandas as pd\n",
        "import os\n",
        "import re\n",
        "import matplotlib.pyplot as plt\n",
        "from nltk.corpus import stopwords\n",
        "from bs4 import BeautifulSoup\n",
        "from tensorflow.keras.preprocessing.text import Tokenizer\n",
        "from tensorflow.keras.preprocessing.sequence import pad_sequences\n",
        "import urllib.request\n"
      ],
      "execution_count": 1,
      "outputs": [
        {
          "output_type": "stream",
          "text": [
            "Requirement already satisfied: nltk in /usr/local/lib/python3.6/dist-packages (3.2.5)\n",
            "Requirement already satisfied: six in /usr/local/lib/python3.6/dist-packages (from nltk) (1.15.0)\n",
            "Requirement already satisfied: beautifulsoup4 in /usr/local/lib/python3.6/dist-packages (4.6.3)\n",
            "[nltk_data] Downloading package stopwords to /root/nltk_data...\n",
            "[nltk_data]   Package stopwords is already up-to-date!\n"
          ],
          "name": "stdout"
        }
      ]
    },
    {
      "cell_type": "code",
      "metadata": {
        "id": "7iI4xnWglYb6"
      },
      "source": [
        "#데이터 다운로드\n",
        "\n",
        "\n",
        "import urllib.request\n",
        "\n",
        "urllib.request.urlretrieve(\"https://raw.githubusercontent.com/sunnysai12345/News_Summary/master/news_summary_more.csv\", filename=\"news_summary_more.csv\")\n",
        "data = pd.read_csv('news_summary_more.csv', encoding='iso-8859-1')\n"
      ],
      "execution_count": 2,
      "outputs": []
    },
    {
      "cell_type": "code",
      "metadata": {
        "colab": {
          "base_uri": "https://localhost:8080/",
          "height": 359
        },
        "id": "EDsy06tAnmjz",
        "outputId": "d848c740-cc52-4896-cebe-e963fda1b87b"
      },
      "source": [
        "#data sample check\n",
        "\n",
        "data=pd.read_csv(\"/content/news_summary_more.csv\",encoding='iso-8859-1')\n",
        "\n",
        "data.sample(10)"
      ],
      "execution_count": 3,
      "outputs": [
        {
          "output_type": "execute_result",
          "data": {
            "text/html": [
              "<div>\n",
              "<style scoped>\n",
              "    .dataframe tbody tr th:only-of-type {\n",
              "        vertical-align: middle;\n",
              "    }\n",
              "\n",
              "    .dataframe tbody tr th {\n",
              "        vertical-align: top;\n",
              "    }\n",
              "\n",
              "    .dataframe thead th {\n",
              "        text-align: right;\n",
              "    }\n",
              "</style>\n",
              "<table border=\"1\" class=\"dataframe\">\n",
              "  <thead>\n",
              "    <tr style=\"text-align: right;\">\n",
              "      <th></th>\n",
              "      <th>headlines</th>\n",
              "      <th>text</th>\n",
              "    </tr>\n",
              "  </thead>\n",
              "  <tbody>\n",
              "    <tr>\n",
              "      <th>93746</th>\n",
              "      <td>Operation Meghdoot to take Siachin was launche...</td>\n",
              "      <td>Indian Armed Forces' Operation Meghdoot was la...</td>\n",
              "    </tr>\n",
              "    <tr>\n",
              "      <th>77372</th>\n",
              "      <td>13-year-old alleges harassment by Karnataka lo...</td>\n",
              "      <td>A 13-year-old girl from Karnataka has filed a ...</td>\n",
              "    </tr>\n",
              "    <tr>\n",
              "      <th>63778</th>\n",
              "      <td>RBS to pay $44 million to settle fraud charges...</td>\n",
              "      <td>The Royal Bank of Scotland has agreed to pay $...</td>\n",
              "    </tr>\n",
              "    <tr>\n",
              "      <th>20394</th>\n",
              "      <td>Trade margin on medical devices may be capped ...</td>\n",
              "      <td>Prime Minister Narendra Modi is likely to acce...</td>\n",
              "    </tr>\n",
              "    <tr>\n",
              "      <th>77126</th>\n",
              "      <td>After attending RS, Sachin allots Ã¢ÂÂ¹25L to...</td>\n",
              "      <td>Former cricketer and Rajya Sabha member Sachin...</td>\n",
              "    </tr>\n",
              "    <tr>\n",
              "      <th>84707</th>\n",
              "      <td>UK Queen Elizabeth officially turns 91 today</td>\n",
              "      <td>Almost two months after turning 91, UK Queen E...</td>\n",
              "    </tr>\n",
              "    <tr>\n",
              "      <th>43846</th>\n",
              "      <td>Beginning of end: Mamata on BSP, SP lead in UP...</td>\n",
              "      <td>After the Bahujan Samaj Party and Samajwadi Pa...</td>\n",
              "    </tr>\n",
              "    <tr>\n",
              "      <th>33143</th>\n",
              "      <td>4 skiers dead after spending night outdoors in...</td>\n",
              "      <td>Four skiers have died and five others are in a...</td>\n",
              "    </tr>\n",
              "    <tr>\n",
              "      <th>75645</th>\n",
              "      <td>Assam floods toll rises to 89, five more dead</td>\n",
              "      <td>The Assam floods claimed five lives on Saturda...</td>\n",
              "    </tr>\n",
              "    <tr>\n",
              "      <th>75697</th>\n",
              "      <td>Britons jailed for turning nuke bunker into ca...</td>\n",
              "      <td>Three Britons were on Friday jailed for runnin...</td>\n",
              "    </tr>\n",
              "  </tbody>\n",
              "</table>\n",
              "</div>"
            ],
            "text/plain": [
              "                                               headlines                                               text\n",
              "93746  Operation Meghdoot to take Siachin was launche...  Indian Armed Forces' Operation Meghdoot was la...\n",
              "77372  13-year-old alleges harassment by Karnataka lo...  A 13-year-old girl from Karnataka has filed a ...\n",
              "63778  RBS to pay $44 million to settle fraud charges...  The Royal Bank of Scotland has agreed to pay $...\n",
              "20394  Trade margin on medical devices may be capped ...  Prime Minister Narendra Modi is likely to acce...\n",
              "77126  After attending RS, Sachin allots Ã¢ÂÂ¹25L to...  Former cricketer and Rajya Sabha member Sachin...\n",
              "84707       UK Queen Elizabeth officially turns 91 today  Almost two months after turning 91, UK Queen E...\n",
              "43846  Beginning of end: Mamata on BSP, SP lead in UP...  After the Bahujan Samaj Party and Samajwadi Pa...\n",
              "33143  4 skiers dead after spending night outdoors in...  Four skiers have died and five others are in a...\n",
              "75645      Assam floods toll rises to 89, five more dead  The Assam floods claimed five lives on Saturda...\n",
              "75697  Britons jailed for turning nuke bunker into ca...  Three Britons were on Friday jailed for runnin..."
            ]
          },
          "metadata": {
            "tags": []
          },
          "execution_count": 3
        }
      ]
    },
    {
      "cell_type": "code",
      "metadata": {
        "colab": {
          "base_uri": "https://localhost:8080/"
        },
        "id": "Pmr5DYTuooB0",
        "outputId": "d4b1d38a-419b-4027-de9b-350b0dcb6147"
      },
      "source": [
        "#text = train data set\n",
        "#headlines = test data set\n",
        "\n",
        "data = data[['text','headlines']]\n",
        "\n",
        "#check null sample\n",
        "print('텍스트 중복 제외한 유일한 샘플 : ', data['text'].nunique())\n",
        "print('헤드라인 중복 제외한 유일한 샘플 : ', data['headlines'].nunique())"
      ],
      "execution_count": 4,
      "outputs": [
        {
          "output_type": "stream",
          "text": [
            "텍스트 중복 제외한 유일한 샘플 :  98360\n",
            "헤드라인 중복 제외한 유일한 샘플 :  98280\n"
          ],
          "name": "stdout"
        }
      ]
    },
    {
      "cell_type": "code",
      "metadata": {
        "colab": {
          "base_uri": "https://localhost:8080/"
        },
        "id": "Djk4SIcFqIKm",
        "outputId": "2b610d91-904b-4662-a401-b2dd1bcc980c"
      },
      "source": [
        "#del duplicated sample\n",
        "\n",
        "data.drop_duplicates(subset=['text'],inplace = True)\n",
        "print('the number of samples :',(len(data)))\n",
        "\n",
        "print(data.isnull().sum())\n",
        "\n"
      ],
      "execution_count": 5,
      "outputs": [
        {
          "output_type": "stream",
          "text": [
            "the number of samples : 98360\n",
            "text         0\n",
            "headlines    0\n",
            "dtype: int64\n"
          ],
          "name": "stdout"
        }
      ]
    },
    {
      "cell_type": "code",
      "metadata": {
        "colab": {
          "base_uri": "https://localhost:8080/"
        },
        "id": "jYM67fVCqRov",
        "outputId": "65d046a7-2b1d-46a7-c822-4c4e1451cfd1"
      },
      "source": [
        "#text normalization\n",
        "\n",
        "contractions = {\"ain't\": \"is not\", \"aren't\": \"are not\",\"can't\": \"cannot\", \"'cause\": \"because\", \"could've\": \"could have\", \"couldn't\": \"could not\",\n",
        "                          \"didn't\": \"did not\",  \"doesn't\": \"does not\", \"don't\": \"do not\", \"hadn't\": \"had not\", \"hasn't\": \"has not\", \"haven't\": \"have not\",\n",
        "                          \"he'd\": \"he would\",\"he'll\": \"he will\", \"he's\": \"he is\", \"how'd\": \"how did\", \"how'd'y\": \"how do you\", \"how'll\": \"how will\", \"how's\": \"how is\",\n",
        "                          \"I'd\": \"I would\", \"I'd've\": \"I would have\", \"I'll\": \"I will\", \"I'll've\": \"I will have\",\"I'm\": \"I am\", \"I've\": \"I have\", \"i'd\": \"i would\",\n",
        "                          \"i'd've\": \"i would have\", \"i'll\": \"i will\",  \"i'll've\": \"i will have\",\"i'm\": \"i am\", \"i've\": \"i have\", \"isn't\": \"is not\", \"it'd\": \"it would\",\n",
        "                          \"it'd've\": \"it would have\", \"it'll\": \"it will\", \"it'll've\": \"it will have\",\"it's\": \"it is\", \"let's\": \"let us\", \"ma'am\": \"madam\",\n",
        "                          \"mayn't\": \"may not\", \"might've\": \"might have\",\"mightn't\": \"might not\",\"mightn't've\": \"might not have\", \"must've\": \"must have\",\n",
        "                          \"mustn't\": \"must not\", \"mustn't've\": \"must not have\", \"needn't\": \"need not\", \"needn't've\": \"need not have\",\"o'clock\": \"of the clock\",\n",
        "                          \"oughtn't\": \"ought not\", \"oughtn't've\": \"ought not have\", \"shan't\": \"shall not\", \"sha'n't\": \"shall not\", \"shan't've\": \"shall not have\",\n",
        "                          \"she'd\": \"she would\", \"she'd've\": \"she would have\", \"she'll\": \"she will\", \"she'll've\": \"she will have\", \"she's\": \"she is\",\n",
        "                          \"should've\": \"should have\", \"shouldn't\": \"should not\", \"shouldn't've\": \"should not have\", \"so've\": \"so have\",\"so's\": \"so as\",\n",
        "                          \"this's\": \"this is\",\"that'd\": \"that would\", \"that'd've\": \"that would have\", \"that's\": \"that is\", \"there'd\": \"there would\",\n",
        "                          \"there'd've\": \"there would have\", \"there's\": \"there is\", \"here's\": \"here is\",\"they'd\": \"they would\", \"they'd've\": \"they would have\",\n",
        "                          \"they'll\": \"they will\", \"they'll've\": \"they will have\", \"they're\": \"they are\", \"they've\": \"they have\", \"to've\": \"to have\",\n",
        "                          \"wasn't\": \"was not\", \"we'd\": \"we would\", \"we'd've\": \"we would have\", \"we'll\": \"we will\", \"we'll've\": \"we will have\", \"we're\": \"we are\",\n",
        "                          \"we've\": \"we have\", \"weren't\": \"were not\", \"what'll\": \"what will\", \"what'll've\": \"what will have\", \"what're\": \"what are\",\n",
        "                          \"what's\": \"what is\", \"what've\": \"what have\", \"when's\": \"when is\", \"when've\": \"when have\", \"where'd\": \"where did\", \"where's\": \"where is\",\n",
        "                          \"where've\": \"where have\", \"who'll\": \"who will\", \"who'll've\": \"who will have\", \"who's\": \"who is\", \"who've\": \"who have\",\n",
        "                          \"why's\": \"why is\", \"why've\": \"why have\", \"will've\": \"will have\", \"won't\": \"will not\", \"won't've\": \"will not have\",\n",
        "                          \"would've\": \"would have\", \"wouldn't\": \"would not\", \"wouldn't've\": \"would not have\", \"y'all\": \"you all\",\n",
        "                          \"y'all'd\": \"you all would\",\"y'all'd've\": \"you all would have\",\"y'all're\": \"you all are\",\"y'all've\": \"you all have\",\n",
        "                          \"you'd\": \"you would\", \"you'd've\": \"you would have\", \"you'll\": \"you will\", \"you'll've\": \"you will have\",\n",
        "                          \"you're\": \"you are\", \"you've\": \"you have\"}\n",
        "print(\"정규화 사전의 수: \",len(contractions))\n"
      ],
      "execution_count": 6,
      "outputs": [
        {
          "output_type": "stream",
          "text": [
            "정규화 사전의 수:  120\n"
          ],
          "name": "stdout"
        }
      ]
    },
    {
      "cell_type": "code",
      "metadata": {
        "colab": {
          "base_uri": "https://localhost:8080/"
        },
        "id": "tCyTz8F_qyp2",
        "outputId": "72f53adc-5c39-4926-929d-d3cfd057a6fa"
      },
      "source": [
        "#kill stopwords\n",
        "\n",
        "print('불용어 개수 :', len(stopwords.words('english') ))\n",
        "print(stopwords.words('english'))\n"
      ],
      "execution_count": 7,
      "outputs": [
        {
          "output_type": "stream",
          "text": [
            "불용어 개수 : 179\n",
            "['i', 'me', 'my', 'myself', 'we', 'our', 'ours', 'ourselves', 'you', \"you're\", \"you've\", \"you'll\", \"you'd\", 'your', 'yours', 'yourself', 'yourselves', 'he', 'him', 'his', 'himself', 'she', \"she's\", 'her', 'hers', 'herself', 'it', \"it's\", 'its', 'itself', 'they', 'them', 'their', 'theirs', 'themselves', 'what', 'which', 'who', 'whom', 'this', 'that', \"that'll\", 'these', 'those', 'am', 'is', 'are', 'was', 'were', 'be', 'been', 'being', 'have', 'has', 'had', 'having', 'do', 'does', 'did', 'doing', 'a', 'an', 'the', 'and', 'but', 'if', 'or', 'because', 'as', 'until', 'while', 'of', 'at', 'by', 'for', 'with', 'about', 'against', 'between', 'into', 'through', 'during', 'before', 'after', 'above', 'below', 'to', 'from', 'up', 'down', 'in', 'out', 'on', 'off', 'over', 'under', 'again', 'further', 'then', 'once', 'here', 'there', 'when', 'where', 'why', 'how', 'all', 'any', 'both', 'each', 'few', 'more', 'most', 'other', 'some', 'such', 'no', 'nor', 'not', 'only', 'own', 'same', 'so', 'than', 'too', 'very', 's', 't', 'can', 'will', 'just', 'don', \"don't\", 'should', \"should've\", 'now', 'd', 'll', 'm', 'o', 're', 've', 'y', 'ain', 'aren', \"aren't\", 'couldn', \"couldn't\", 'didn', \"didn't\", 'doesn', \"doesn't\", 'hadn', \"hadn't\", 'hasn', \"hasn't\", 'haven', \"haven't\", 'isn', \"isn't\", 'ma', 'mightn', \"mightn't\", 'mustn', \"mustn't\", 'needn', \"needn't\", 'shan', \"shan't\", 'shouldn', \"shouldn't\", 'wasn', \"wasn't\", 'weren', \"weren't\", 'won', \"won't\", 'wouldn', \"wouldn't\"]\n"
          ],
          "name": "stdout"
        }
      ]
    },
    {
      "cell_type": "code",
      "metadata": {
        "id": "CFhbROLaq3ut"
      },
      "source": [
        "#data preprocess\n",
        "\n",
        "def preprocess_sentence(sentence, remove_stopwords=True):\n",
        "   sentence = sentence.lower() # 텍스트 소문자화\n",
        "   sentence = BeautifulSoup(sentence, \"lxml\").text # <br />, <a href = ...> 등의 html 태그 제거\n",
        "   sentence = re.sub(r'\\([^)]*\\)', '', sentence) # 괄호로 닫힌 문자열 (...) 제거 Ex) my husband (and myself!) for => my husband for\n",
        "   sentence = re.sub('\"','', sentence) # 쌍따옴표 \" 제거\n",
        "   sentence = ' '.join([contractions[t] if t in contractions else t for t in sentence.split(\" \")]) # 약어 정규화\n",
        "   sentence = re.sub(r\"'s\\b\",\"\",sentence) # 소유격 제거. Ex) roland's -> roland\n",
        "   sentence = re.sub(\"[^a-zA-Z]\", \" \", sentence) # 영어 외 문자(숫자, 특수문자 등) 공백으로 변환\n",
        "   sentence = re.sub('[m]{2,}', 'mm', sentence) # m이 3개 이상이면 2개로 변경. Ex) ummmmmmm yeah -> umm yeah\n",
        "  \n",
        "   # kill stop words (Text)\n",
        "   if remove_stopwords:\n",
        "       tokens = ' '.join(word for word in sentence.split() if not word in stopwords.words('english') if len(word) > 1)\n",
        "   # ??? 불용어 미제거 (Summary)\n",
        "   else:\n",
        "       tokens = ' '.join(word for word in sentence.split() if len(word) > 1)\n",
        "   return tokens\n"
      ],
      "execution_count": 8,
      "outputs": []
    },
    {
      "cell_type": "code",
      "metadata": {
        "colab": {
          "base_uri": "https://localhost:8080/"
        },
        "id": "dxM5Dx5zrNJY",
        "outputId": "062af45c-3df5-4701-cc85-59a452f94b69"
      },
      "source": [
        "#preparing error\n",
        "\n",
        "! pip install lxml\n"
      ],
      "execution_count": 9,
      "outputs": [
        {
          "output_type": "stream",
          "text": [
            "Requirement already satisfied: lxml in /usr/local/lib/python3.6/dist-packages (4.2.6)\n"
          ],
          "name": "stdout"
        }
      ]
    },
    {
      "cell_type": "code",
      "metadata": {
        "colab": {
          "base_uri": "https://localhost:8080/"
        },
        "id": "lHBWLQh5rPNl",
        "outputId": "ec12cd2f-b2f5-41f3-f743-e2ffb1470a7f"
      },
      "source": [
        "#checking before/after\n",
        "\n",
        "temp_text = 'Everything I bought was great, infact I ordered twice and the third ordered was<br />for my mother and father.'\n",
        "temp_summary = 'Great way to start (or finish) the day!!!'\n",
        "print(preprocess_sentence(temp_text))\n",
        "print(preprocess_sentence(temp_summary, False))  # 불용어를 제거하지 않습니다.\n"
      ],
      "execution_count": 10,
      "outputs": [
        {
          "output_type": "stream",
          "text": [
            "everything bought great infact ordered twice third ordered wasfor mother father\n",
            "great way to start the day\n"
          ],
          "name": "stdout"
        }
      ]
    },
    {
      "cell_type": "code",
      "metadata": {
        "colab": {
          "base_uri": "https://localhost:8080/"
        },
        "id": "R2wuvLRErmzJ",
        "outputId": "29bd3e17-1ac6-48af-dba6-6ef084af1136"
      },
      "source": [
        "#checking the result which I preprocessed\n",
        "\n",
        "clean_text = []\n",
        "# 전체 Text 데이터에 대한 전처리 : 10분 이상 시간이 걸릴 수 있습니다.\n",
        "for s in data['text']:\n",
        "   clean_text.append(preprocess_sentence(s))   #전처리 후 출력\n",
        "clean_text[:5]\n"
      ],
      "execution_count": 11,
      "outputs": [
        {
          "output_type": "execute_result",
          "data": {
            "text/plain": [
              "['saurav kant alumnus upgrad iiit pg program machine learning artificial intelligence sr systems engineer infosys almost years work experience program upgrad degree career support helped transition data scientist tech mahindra salary hike upgrad online power learning powered lakh careers',\n",
              " 'kunal shah credit card bill payment platform cred gave users chance win free food swiggy one year pranav kaushik delhi techie bagged reward spending cred coins users get one cred coin per rupee bill paid used avail rewards brands like ixigo bookmyshow ubereats cult fit',\n",
              " 'new zealand defeated india wickets fourth odi hamilton thursday win first match five match odi series india lost international match rohit sharma captaincy consecutive victories dating back march match witnessed india getting seventh lowest total odi cricket history',\n",
              " 'aegon life iterm insurance plan customers enjoy tax benefits premiums paid save taxes plan provides life cover age years also customers options insure critical illnesses disability accidental death benefit rider life cover age years',\n",
              " 'speaking sexual harassment allegations rajkumar hirani sonam kapoor said known hirani many years true metoo movement get derailed metoo movement always believe woman case need reserve judgment added hirani accused assistant worked sanju']"
            ]
          },
          "metadata": {
            "tags": []
          },
          "execution_count": 11
        }
      ]
    },
    {
      "cell_type": "code",
      "metadata": {
        "colab": {
          "base_uri": "https://localhost:8080/"
        },
        "id": "s3WCrl6prxmR",
        "outputId": "1121aac7-bea9-446e-ad57-105fbc1e331b"
      },
      "source": [
        "clean_headlines = []  #전체 Headlines 데이터에 대한 전처리 : 5분 이상 시간이 걸릴 수 있습니다.\n",
        "for s in data['headlines']:\n",
        "   clean_headlines.append(preprocess_sentence(s, False))\n",
        "clean_headlines[:5]\n"
      ],
      "execution_count": 12,
      "outputs": [
        {
          "output_type": "execute_result",
          "data": {
            "text/plain": [
              "['upgrad learner switches to career in ml al with salary hike',\n",
              " 'delhi techie wins free food from swiggy for one year on cred',\n",
              " 'new zealand end rohit sharma led india match winning streak',\n",
              " 'aegon life iterm insurance plan helps customers save tax',\n",
              " 'have known hirani for yrs what if metoo claims are not true sonam']"
            ]
          },
          "metadata": {
            "tags": []
          },
          "execution_count": 12
        }
      ]
    },
    {
      "cell_type": "code",
      "metadata": {
        "colab": {
          "base_uri": "https://localhost:8080/"
        },
        "id": "fF0gUgNIwFkb",
        "outputId": "5184c3b5-adbb-4248-a56a-f780bf21e34d"
      },
      "source": [
        "#rechecking the empty sample again\n",
        "\n",
        "data['text'] = clean_text\n",
        "data['headlines'] = clean_headlines # 빈 값을 Null 값으로 변환\n",
        "data.replace('', np.nan, inplace=True)\n",
        "\n",
        "data.isnull().sum()\n"
      ],
      "execution_count": 13,
      "outputs": [
        {
          "output_type": "execute_result",
          "data": {
            "text/plain": [
              "text         0\n",
              "headlines    0\n",
              "dtype: int64"
            ]
          },
          "metadata": {
            "tags": []
          },
          "execution_count": 13
        }
      ]
    },
    {
      "cell_type": "code",
      "metadata": {
        "colab": {
          "base_uri": "https://localhost:8080/",
          "height": 955
        },
        "id": "56IpG_JlwZ3C",
        "outputId": "95e2fec5-04d7-41ea-9d42-8b62f967dadd"
      },
      "source": [
        "#set the maximum sample sentence\n",
        "\n",
        "# 길이 분포 출력\n",
        "import matplotlib.pyplot as plt\n",
        "text_len = [len(s.split()) for s in data['text']]\n",
        "headlines_len = [len(s.split()) for s in data['headlines']]\n",
        "\n",
        "print('텍스트의 최소 길이 : {}'.format(np.min(text_len)))\n",
        "print('텍스트의 최대 길이 : {}'.format(np.max(text_len)))\n",
        "print('텍스트의 평균 길이 : {}'.format(np.mean(text_len)))\n",
        "print('요약의 최소 길이 : {}'.format(np.min(headlines_len)))\n",
        "print('요약의 최대 길이 : {}'.format(np.max(headlines_len)))\n",
        "print('요약의 평균 길이 : {}'.format(np.mean(headlines_len)))\n",
        "\n",
        "plt.subplot(1,2,1)\n",
        "plt.boxplot(headlines_len)\n",
        "plt.title('headlines')\n",
        "plt.subplot(1,2,2)\n",
        "plt.boxplot(text_len)\n",
        "plt.title('text')\n",
        "plt.tight_layout()\n",
        "plt.show()\n",
        "\n",
        "plt.title('headlines')\n",
        "plt.hist(headlines_len, bins = 40)\n",
        "plt.xlabel('length of samples')\n",
        "plt.ylabel('number of samples')\n",
        "plt.show()\n",
        "plt.title('text')\n",
        "plt.hist(text_len, bins = 40)\n",
        "plt.xlabel('length of samples')\n",
        "plt.ylabel('number of samples')\n",
        "plt.show()"
      ],
      "execution_count": 14,
      "outputs": [
        {
          "output_type": "stream",
          "text": [
            "텍스트의 최소 길이 : 1\n",
            "텍스트의 최대 길이 : 60\n",
            "텍스트의 평균 길이 : 35.09968483123221\n",
            "요약의 최소 길이 : 1\n",
            "요약의 최대 길이 : 16\n",
            "요약의 평균 길이 : 9.299532330215534\n"
          ],
          "name": "stdout"
        },
        {
          "output_type": "display_data",
          "data": {
            "image/png": "[encoded data removed]",
            "text/plain": [
              "<Figure size 432x288 with 2 Axes>"
            ]
          },
          "metadata": {
            "tags": [],
            "needs_background": "light"
          }
        },
        {
          "output_type": "display_data",
          "data": {
            "image/png": "[encoded data removed]",
            "text/plain": [
              "<Figure size 432x288 with 1 Axes>"
            ]
          },
          "metadata": {
            "tags": [],
            "needs_background": "light"
          }
        },
        {
          "output_type": "display_data",
          "data": {
            "image/png": "[encoded data removed]",
            "text/plain": [
              "<Figure size 432x288 with 1 Axes>"
            ]
          },
          "metadata": {
            "tags": [],
            "needs_background": "light"
          }
        }
      ]
    },
    {
      "cell_type": "code",
      "metadata": {
        "id": "rd2ICGsH8AGz"
      },
      "source": [
        "text_max_len = 50\n",
        "headlines_max_len = 10\n"
      ],
      "execution_count": 15,
      "outputs": []
    },
    {
      "cell_type": "code",
      "metadata": {
        "id": "MsNC4pUT8Wbe"
      },
      "source": [
        "def below_threshold_len(max_len, nested_list):\n",
        " cnt = 0\n",
        " for s in nested_list:\n",
        "   if(len(s.split()) <= max_len):\n",
        "       cnt = cnt + 1\n",
        " print('전체 샘플 중 길이가 %s 이하인 샘플의 비율: %s'%(max_len, (cnt / len(nested_list))))\n"
      ],
      "execution_count": 16,
      "outputs": []
    },
    {
      "cell_type": "code",
      "metadata": {
        "colab": {
          "base_uri": "https://localhost:8080/"
        },
        "id": "LJ7eBRBI8Ybe",
        "outputId": "21b2696c-6882-4d3c-eb26-68a6d2078bb7"
      },
      "source": [
        "below_threshold_len(text_max_len, data['text'])\n",
        "below_threshold_len(headlines_max_len,  data['headlines'])\n"
      ],
      "execution_count": 17,
      "outputs": [
        {
          "output_type": "stream",
          "text": [
            "전체 샘플 중 길이가 50 이하인 샘플의 비율: 0.9998576657177715\n",
            "전체 샘플 중 길이가 10 이하인 샘플의 비율: 0.8162972753151687\n"
          ],
          "name": "stdout"
        }
      ]
    },
    {
      "cell_type": "code",
      "metadata": {
        "colab": {
          "base_uri": "https://localhost:8080/",
          "height": 204
        },
        "id": "X8NSOn4k8ohk",
        "outputId": "24d9a5c3-40c6-47c2-e96e-e6827e602fd1"
      },
      "source": [
        "#add starting and ending token \n",
        "#요약 데이터에는 시작 토큰과 종료 토큰을 추가한다.\n",
        "data['decoder_input'] = data['headlines'].apply(lambda x : 'sostoken '+ x)\n",
        "data['decoder_target'] = data['headlines'].apply(lambda x : x + ' eostoken')\n",
        "data.head()\n"
      ],
      "execution_count": 18,
      "outputs": [
        {
          "output_type": "execute_result",
          "data": {
            "text/html": [
              "<div>\n",
              "<style scoped>\n",
              "    .dataframe tbody tr th:only-of-type {\n",
              "        vertical-align: middle;\n",
              "    }\n",
              "\n",
              "    .dataframe tbody tr th {\n",
              "        vertical-align: top;\n",
              "    }\n",
              "\n",
              "    .dataframe thead th {\n",
              "        text-align: right;\n",
              "    }\n",
              "</style>\n",
              "<table border=\"1\" class=\"dataframe\">\n",
              "  <thead>\n",
              "    <tr style=\"text-align: right;\">\n",
              "      <th></th>\n",
              "      <th>text</th>\n",
              "      <th>headlines</th>\n",
              "      <th>decoder_input</th>\n",
              "      <th>decoder_target</th>\n",
              "    </tr>\n",
              "  </thead>\n",
              "  <tbody>\n",
              "    <tr>\n",
              "      <th>0</th>\n",
              "      <td>saurav kant alumnus upgrad iiit pg program mac...</td>\n",
              "      <td>upgrad learner switches to career in ml al wit...</td>\n",
              "      <td>sostoken upgrad learner switches to career in ...</td>\n",
              "      <td>upgrad learner switches to career in ml al wit...</td>\n",
              "    </tr>\n",
              "    <tr>\n",
              "      <th>1</th>\n",
              "      <td>kunal shah credit card bill payment platform c...</td>\n",
              "      <td>delhi techie wins free food from swiggy for on...</td>\n",
              "      <td>sostoken delhi techie wins free food from swig...</td>\n",
              "      <td>delhi techie wins free food from swiggy for on...</td>\n",
              "    </tr>\n",
              "    <tr>\n",
              "      <th>2</th>\n",
              "      <td>new zealand defeated india wickets fourth odi ...</td>\n",
              "      <td>new zealand end rohit sharma led india match w...</td>\n",
              "      <td>sostoken new zealand end rohit sharma led indi...</td>\n",
              "      <td>new zealand end rohit sharma led india match w...</td>\n",
              "    </tr>\n",
              "    <tr>\n",
              "      <th>3</th>\n",
              "      <td>aegon life iterm insurance plan customers enjo...</td>\n",
              "      <td>aegon life iterm insurance plan helps customer...</td>\n",
              "      <td>sostoken aegon life iterm insurance plan helps...</td>\n",
              "      <td>aegon life iterm insurance plan helps customer...</td>\n",
              "    </tr>\n",
              "    <tr>\n",
              "      <th>4</th>\n",
              "      <td>speaking sexual harassment allegations rajkuma...</td>\n",
              "      <td>have known hirani for yrs what if metoo claims...</td>\n",
              "      <td>sostoken have known hirani for yrs what if met...</td>\n",
              "      <td>have known hirani for yrs what if metoo claims...</td>\n",
              "    </tr>\n",
              "  </tbody>\n",
              "</table>\n",
              "</div>"
            ],
            "text/plain": [
              "                                                text  ...                                     decoder_target\n",
              "0  saurav kant alumnus upgrad iiit pg program mac...  ...  upgrad learner switches to career in ml al wit...\n",
              "1  kunal shah credit card bill payment platform c...  ...  delhi techie wins free food from swiggy for on...\n",
              "2  new zealand defeated india wickets fourth odi ...  ...  new zealand end rohit sharma led india match w...\n",
              "3  aegon life iterm insurance plan customers enjo...  ...  aegon life iterm insurance plan helps customer...\n",
              "4  speaking sexual harassment allegations rajkuma...  ...  have known hirani for yrs what if metoo claims...\n",
              "\n",
              "[5 rows x 4 columns]"
            ]
          },
          "metadata": {
            "tags": []
          },
          "execution_count": 18
        }
      ]
    },
    {
      "cell_type": "code",
      "metadata": {
        "id": "4mMz8ONi84vD"
      },
      "source": [
        "encoder_input = np.array(data['text']) # 인코더의 입력\n",
        "decoder_input = np.array(data['decoder_input']) # 디코더의 입력\n",
        "decoder_target = np.array(data['decoder_target']) # 디코더의 레이블\n"
      ],
      "execution_count": 19,
      "outputs": []
    },
    {
      "cell_type": "code",
      "metadata": {
        "colab": {
          "base_uri": "https://localhost:8080/"
        },
        "id": "rYyrZgPY88fK",
        "outputId": "357d86c4-b07a-4547-d3f6-bab32026c93b"
      },
      "source": [
        "indices = np.arange(encoder_input.shape[0])\n",
        "np.random.shuffle(indices)\n",
        "print(indices)\n"
      ],
      "execution_count": 20,
      "outputs": [
        {
          "output_type": "stream",
          "text": [
            "[68451 70150 26330 ... 22012 58854 93052]\n"
          ],
          "name": "stdout"
        }
      ]
    },
    {
      "cell_type": "code",
      "metadata": {
        "id": "q63AmeGZ8_Vo"
      },
      "source": [
        "encoder_input = encoder_input[indices]\n",
        "decoder_input = decoder_input[indices]\n",
        "decoder_target = decoder_target[indices]\n"
      ],
      "execution_count": 21,
      "outputs": []
    },
    {
      "cell_type": "code",
      "metadata": {
        "colab": {
          "base_uri": "https://localhost:8080/"
        },
        "id": "ZsvFrPif9BGg",
        "outputId": "10a32d9d-8d77-4e2a-bd46-99f313dcf84d"
      },
      "source": [
        "n_of_val = int(len(encoder_input)*0.2)\n",
        "print('테스트 데이터의 수 :',n_of_val)\n"
      ],
      "execution_count": 22,
      "outputs": [
        {
          "output_type": "stream",
          "text": [
            "테스트 데이터의 수 : 19672\n"
          ],
          "name": "stdout"
        }
      ]
    },
    {
      "cell_type": "code",
      "metadata": {
        "colab": {
          "base_uri": "https://localhost:8080/"
        },
        "id": "4wdfzWUY9D5b",
        "outputId": "24d9a5c2-9da0-41a3-da87-01c86fcecbd1"
      },
      "source": [
        "encoder_input_train = encoder_input[:-n_of_val]\n",
        "decoder_input_train = decoder_input[:-n_of_val]\n",
        "decoder_target_train = decoder_target[:-n_of_val]\n",
        "encoder_input_test = encoder_input[-n_of_val:]\n",
        "decoder_input_test = decoder_input[-n_of_val:]\n",
        "decoder_target_test = decoder_target[-n_of_val:]\n",
        "\n",
        "print('훈련 데이터의 개수 :', len(encoder_input_train))\n",
        "print('훈련 레이블의 개수 :',len(decoder_input_train))\n",
        "print('테스트 데이터의 개수 :',len(encoder_input_test))\n",
        "print('테스트 레이블의 개수 :',len(decoder_input_test))\n"
      ],
      "execution_count": 23,
      "outputs": [
        {
          "output_type": "stream",
          "text": [
            "훈련 데이터의 개수 : 78688\n",
            "훈련 레이블의 개수 : 78688\n",
            "테스트 데이터의 개수 : 19672\n",
            "테스트 레이블의 개수 : 19672\n"
          ],
          "name": "stdout"
        }
      ]
    },
    {
      "cell_type": "code",
      "metadata": {
        "id": "OOuDJA9t9I13"
      },
      "source": [
        "#tokenizer\n",
        "src_tokenizer = Tokenizer() # 토크나이저 정의\n",
        "src_tokenizer.fit_on_texts(encoder_input_train) # 입력된 데이터로부터 단어 집합 생성"
      ],
      "execution_count": 24,
      "outputs": []
    },
    {
      "cell_type": "code",
      "metadata": {
        "id": "mJ1CibeE9Rwz",
        "colab": {
          "base_uri": "https://localhost:8080/"
        },
        "outputId": "c5a1a126-4238-4ae7-d829-630cd6c72f59"
      },
      "source": [
        "#7번 미만 빈도수의 단어들은 제외하기\n",
        "threshold = 7\n",
        "total_cnt = len(src_tokenizer.word_index) # 단어의 수\n",
        "rare_cnt = 0 # 등장 빈도수가 threshold보다 작은 단어의 개수를 카운트\n",
        "total_freq = 0 # 훈련 데이터의 전체 단어 빈도수 총 합\n",
        "rare_freq = 0 # 등장 빈도수가 threshold보다 작은 단어의 등장 빈도수의 총 합\n",
        "\n",
        "# 단어와 빈도수의 쌍(pair)을 key와 value로 받는다.\n",
        "for key, value in src_tokenizer.word_counts.items():\n",
        "   total_freq = total_freq + value\n",
        "#단어의 등장 빈도수가 threshold보다 작으면\n",
        "   if(value < threshold):\n",
        "       rare_cnt = rare_cnt + 1\n",
        "       rare_freq = rare_freq + value\n",
        "\n",
        "print('단어 집합(vocabulary)의 크기 :',total_cnt)\n",
        "print('등장 빈도가 %s번 이하인 희귀 단어의 수: %s'%(threshold - 1, rare_cnt))\n",
        "print('단어 집합에서 희귀 단어를 제외시킬 경우의 단어 집합의 크기 %s'%(total_cnt - rare_cnt))\n",
        "print(\"단어 집합에서 희귀 단어의 비율:\", (rare_cnt / total_cnt)*100)\n",
        "print(\"전체 등장 빈도에서 희귀 단어 등장 빈도 비율:\", (rare_freq / total_freq)*100)\n"
      ],
      "execution_count": 25,
      "outputs": [
        {
          "output_type": "stream",
          "text": [
            "단어 집합(vocabulary)의 크기 : 69718\n",
            "등장 빈도가 6번 이하인 희귀 단어의 수: 47525\n",
            "단어 집합에서 희귀 단어를 제외시킬 경우의 단어 집합의 크기 22193\n",
            "단어 집합에서 희귀 단어의 비율: 68.16747468372587\n",
            "전체 등장 빈도에서 희귀 단어 등장 빈도 비율: 3.484290533262708\n"
          ],
          "name": "stdout"
        }
      ]
    },
    {
      "cell_type": "code",
      "metadata": {
        "id": "kIvsA0ST9c8A"
      },
      "source": [
        "src_vocab = 8000\n",
        "src_tokenizer = Tokenizer(num_words = src_vocab) # 단어 집합의 크기를 8,000으로 제한\n",
        "src_tokenizer.fit_on_texts(encoder_input_train) # 단어 집합 재생성."
      ],
      "execution_count": 26,
      "outputs": []
    },
    {
      "cell_type": "code",
      "metadata": {
        "colab": {
          "base_uri": "https://localhost:8080/"
        },
        "id": "jFCdeZ839gjm",
        "outputId": "ec8ecf82-5795-422a-eba9-cfb080acf35b"
      },
      "source": [
        "# 텍스트 시퀀스를 정수 시퀀스로 변환\n",
        "encoder_input_train = src_tokenizer.texts_to_sequences(encoder_input_train)\n",
        "encoder_input_test = src_tokenizer.texts_to_sequences(encoder_input_test)\n",
        "#잘 진행되었는지 샘플 출력\n",
        "print(encoder_input_train[:3])\n"
      ],
      "execution_count": 27,
      "outputs": [
        {
          "output_type": "stream",
          "text": [
            "[[232, 795, 5092, 65, 2417, 4149, 584, 105, 6021, 1322, 5092, 6094, 105, 713, 534, 152, 3494, 5535, 306, 1157, 168, 4149, 584, 5092, 5956, 1397, 6021, 947, 584, 5838, 185], [2260, 757, 1016, 30, 5046, 922, 1675, 7908, 1, 7908, 403, 1218, 4662, 1218, 1377, 4219, 796, 4, 2467, 4150, 922, 2260, 3061, 507, 1626, 922, 694, 2641, 1986, 2260, 694], [5, 33, 6486, 1357, 103, 5013, 92, 1042, 7, 3323, 939, 523, 5013, 297, 73, 641, 35, 189, 1886, 3474, 184, 216, 103, 6, 173, 7, 66, 1576, 847, 671, 660, 81]]\n"
          ],
          "name": "stdout"
        }
      ]
    },
    {
      "cell_type": "code",
      "metadata": {
        "id": "nAi1pYbS-E8N"
      },
      "source": [
        "tar_tokenizer = Tokenizer()\n",
        "tar_tokenizer.fit_on_texts(decoder_input_train)\n"
      ],
      "execution_count": 28,
      "outputs": []
    },
    {
      "cell_type": "code",
      "metadata": {
        "colab": {
          "base_uri": "https://localhost:8080/"
        },
        "id": "JthdmYXz-Jvc",
        "outputId": "6bbb98da-3b9d-493d-8560-e1ccf524a14b"
      },
      "source": [
        "threshold = 6\n",
        "total_cnt = len(tar_tokenizer.word_index) # 단어의 수\n",
        "rare_cnt = 0 # 등장 빈도수가 threshold보다 작은 단어의 개수를 카운트\n",
        "total_freq = 0 # 훈련 데이터의 전체 단어 빈도수 총 합\n",
        "rare_freq = 0 # 등장 빈도수가 threshold보다 작은 단어의 등장 빈도수의 총 합​\n",
        "# 단어와 빈도수의 쌍(pair)을 key와 value로 받는다.\n",
        "for key, value in tar_tokenizer.word_counts.items():\n",
        "   total_freq = total_freq + value\n",
        "\n",
        "# 단어의 등장 빈도수가 threshold보다 작으면\n",
        "   if(value < threshold):\n",
        "       rare_cnt = rare_cnt + 1\n",
        "       rare_freq = rare_freq + value\n",
        "\n",
        "print('단어 집합(vocabulary)의 크기 :',total_cnt)\n",
        "print('등장 빈도가 %s번 이하인 희귀 단어의 수: %s'%(threshold - 1, rare_cnt))\n",
        "print('단어 집합에서 희귀 단어를 제외시킬 경우의 단어 집합의 크기 %s'%(total_cnt - rare_cnt))\n",
        "print(\"단어 집합에서 희귀 단어의 비율:\", (rare_cnt / total_cnt)*100)\n",
        "print(\"전체 등장 빈도에서 희귀 단어 등장 빈도 비율:\", (rare_freq / total_freq)*100)\n"
      ],
      "execution_count": 29,
      "outputs": [
        {
          "output_type": "stream",
          "text": [
            "단어 집합(vocabulary)의 크기 : 30061\n",
            "등장 빈도가 5번 이하인 희귀 단어의 수: 19649\n",
            "단어 집합에서 희귀 단어를 제외시킬 경우의 단어 집합의 크기 10412\n",
            "단어 집합에서 희귀 단어의 비율: 65.36376035394697\n",
            "전체 등장 빈도에서 희귀 단어 등장 빈도 비율: 4.652592213177983\n"
          ],
          "name": "stdout"
        }
      ]
    },
    {
      "cell_type": "code",
      "metadata": {
        "colab": {
          "base_uri": "https://localhost:8080/"
        },
        "id": "opXzc0nC-WYo",
        "outputId": "553848d4-e95b-4abb-a501-fdfdb4b1b98c"
      },
      "source": [
        "tar_vocab = 10000\n",
        "tar_tokenizer = Tokenizer(num_words = tar_vocab)\n",
        "tar_tokenizer.fit_on_texts(decoder_input_train)\n",
        "tar_tokenizer.fit_on_texts(decoder_target_train)\n",
        "\n",
        "# 텍스트 시퀀스를 정수 시퀀스로 변환\n",
        "decoder_input_train = tar_tokenizer.texts_to_sequences(decoder_input_train)\n",
        "decoder_target_train = tar_tokenizer.texts_to_sequences(decoder_target_train)\n",
        "decoder_input_test = tar_tokenizer.texts_to_sequences(decoder_input_test)\n",
        "decoder_target_test = tar_tokenizer.texts_to_sequences(decoder_target_test)\n",
        "#잘 변환되었는지 확인\n",
        "print('input')\n",
        "print('input ',decoder_input_train[:5])\n",
        "print('target')\n",
        "print('decoder ',decoder_target_train[:5])\n"
      ],
      "execution_count": 30,
      "outputs": [
        {
          "output_type": "stream",
          "text": [
            "input\n",
            "input  [[1, 4036, 731, 2009, 1427, 15, 148, 3, 5206, 2491], [1, 292, 4838, 236, 10, 447, 542, 1599, 7, 4838, 3400], [1, 78, 84, 2392, 192, 3, 543, 35, 3601, 7681, 4, 6482], [1, 1243, 3924, 4, 117, 412], [1, 8824, 1820, 1057, 5002, 6, 68, 3602, 15]]\n",
            "target\n",
            "decoder  [[4036, 731, 2009, 1427, 15, 148, 3, 5206, 2491, 2], [292, 4838, 236, 10, 447, 542, 1599, 7, 4838, 3400, 2], [78, 84, 2392, 192, 3, 543, 35, 3601, 7681, 4, 6482, 2], [1243, 3924, 4, 117, 412, 2], [8824, 1820, 1057, 5002, 6, 68, 3602, 15, 2]]\n"
          ],
          "name": "stdout"
        }
      ]
    },
    {
      "cell_type": "code",
      "metadata": {
        "colab": {
          "base_uri": "https://localhost:8080/"
        },
        "id": "F2FzYJHG-gBB",
        "outputId": "a26f3c48-1792-4e11-f4b9-a2ea7a356fe8"
      },
      "source": [
        "drop_train = [index for index, sentence in enumerate(decoder_input_train) if len(sentence) == 1]\n",
        "drop_test = [index for index, sentence in enumerate(decoder_input_test) if len(sentence) == 1]\n",
        "\n",
        "print('삭제할 훈련 데이터의 개수 :',len(drop_train))\n",
        "print('삭제할 테스트 데이터의 개수 :',len(drop_test))\n",
        "\n",
        "encoder_input_train = np.delete(encoder_input_train, drop_train, axis=0)\n",
        "decoder_input_train = np.delete(decoder_input_train, drop_train, axis=0)\n",
        "decoder_target_train = np.delete(decoder_target_train, drop_train, axis=0)\n",
        "\n",
        "encoder_input_test = np.delete(encoder_input_test, drop_test, axis=0)\n",
        "decoder_input_test = np.delete(decoder_input_test, drop_test, axis=0)\n",
        "decoder_target_test = np.delete(decoder_target_test, drop_test, axis=0)\n",
        "print('훈련 데이터의 개수 :', len(encoder_input_train))\n",
        "print('훈련 레이블의 개수 :',len(decoder_input_train))\n",
        "print('테스트 데이터의 개수 :',len(encoder_input_test))\n",
        "print('테스트 레이블의 개수 :',len(decoder_input_test))"
      ],
      "execution_count": 31,
      "outputs": [
        {
          "output_type": "stream",
          "text": [
            "삭제할 훈련 데이터의 개수 : 0\n",
            "삭제할 테스트 데이터의 개수 : 0\n"
          ],
          "name": "stdout"
        },
        {
          "output_type": "stream",
          "text": [
            "/usr/local/lib/python3.6/dist-packages/numpy/core/_asarray.py:83: VisibleDeprecationWarning: Creating an ndarray from ragged nested sequences (which is a list-or-tuple of lists-or-tuples-or ndarrays with different lengths or shapes) is deprecated. If you meant to do this, you must specify 'dtype=object' when creating the ndarray\n",
            "  return array(a, dtype, copy=False, order=order)\n"
          ],
          "name": "stderr"
        },
        {
          "output_type": "stream",
          "text": [
            "훈련 데이터의 개수 : 78688\n",
            "훈련 레이블의 개수 : 78688\n",
            "테스트 데이터의 개수 : 19672\n",
            "테스트 레이블의 개수 : 19672\n"
          ],
          "name": "stdout"
        }
      ]
    },
    {
      "cell_type": "code",
      "metadata": {
        "id": "drNym7Rv--s0"
      },
      "source": [
        "#패딩 padding\n",
        "encoder_input_train = pad_sequences(encoder_input_train, maxlen = text_max_len, padding='post')\n",
        "encoder_input_test = pad_sequences(encoder_input_test, maxlen = text_max_len, padding='post')\n",
        "decoder_input_train = pad_sequences(decoder_input_train, maxlen = headlines_max_len, padding='post')\n",
        "decoder_target_train = pad_sequences(decoder_target_train, maxlen = headlines_max_len, padding='post')\n",
        "decoder_input_test = pad_sequences(decoder_input_test, maxlen = headlines_max_len, padding='post')\n",
        "decoder_target_test = pad_sequences(decoder_target_test, maxlen = headlines_max_len, padding='post')\n"
      ],
      "execution_count": 32,
      "outputs": []
    },
    {
      "cell_type": "code",
      "metadata": {
        "colab": {
          "base_uri": "https://localhost:8080/"
        },
        "id": "VJkiws4f_JnW",
        "outputId": "dc329708-1726-421e-e9fc-56276ec4d73b"
      },
      "source": [
        "#designing the model\n",
        "\n",
        "from tensorflow.keras.layers import Input, LSTM, Embedding, Dense, Concatenate\n",
        "from tensorflow.keras.models import Model\n",
        "from tensorflow.keras.callbacks import EarlyStopping, ModelCheckpoint\n",
        "# 인코더 설계 시작\n",
        "embedding_dim = 128\n",
        "hidden_size = 256\n",
        "# 인코더\n",
        "encoder_inputs = Input(shape=(text_max_len,))\n",
        "# 인코더의 임베딩 층\n",
        "enc_emb = Embedding(src_vocab, embedding_dim)(encoder_inputs)\n",
        "# 인코더의 LSTM 1\n",
        "encoder_lstm1 = LSTM(hidden_size, return_sequences=True, return_state=True ,dropout = 0.4, recurrent_dropout = 0.4)\n",
        "encoder_output1, state_h1, state_c1 = encoder_lstm1(enc_emb)\n",
        "# 인코더의 LSTM 2\n",
        "encoder_lstm2 = LSTM(hidden_size, return_sequences=True, return_state=True, dropout=0.4, recurrent_dropout=0.4)\n",
        "encoder_output2, state_h2, state_c2 = encoder_lstm2(encoder_output1)\n",
        "# 인코더의 LSTM 3\n",
        "encoder_lstm3 = LSTM(hidden_size, return_state=True, return_sequences=True, dropout=0.4, recurrent_dropout=0.4)\n",
        "encoder_outputs, state_h, state_c= encoder_lstm3(encoder_output2)"
      ],
      "execution_count": 33,
      "outputs": [
        {
          "output_type": "stream",
          "text": [
            "WARNING:tensorflow:Layer lstm will not use cuDNN kernel since it doesn't meet the cuDNN kernel criteria. It will use generic GPU kernel as fallback when running on GPU\n",
            "WARNING:tensorflow:Layer lstm_1 will not use cuDNN kernel since it doesn't meet the cuDNN kernel criteria. It will use generic GPU kernel as fallback when running on GPU\n",
            "WARNING:tensorflow:Layer lstm_2 will not use cuDNN kernel since it doesn't meet the cuDNN kernel criteria. It will use generic GPU kernel as fallback when running on GPU\n"
          ],
          "name": "stdout"
        }
      ]
    },
    {
      "cell_type": "code",
      "metadata": {
        "colab": {
          "base_uri": "https://localhost:8080/"
        },
        "id": "3_8pZEes_XD_",
        "outputId": "e26bf61a-4412-44a5-b3d6-224888b13811"
      },
      "source": [
        "# 디코더 설계\n",
        "decoder_inputs = Input(shape=(None,))\n",
        "# 디코더의 임베딩 층\n",
        "dec_emb_layer = Embedding(tar_vocab, embedding_dim)\n",
        "dec_emb = dec_emb_layer(decoder_inputs)\n",
        "# 디코더의 LSTM\n",
        "decoder_lstm = LSTM(hidden_size, return_sequences = True, return_state = True, dropout = 0.4, recurrent_dropout=0.2)\n",
        "decoder_outputs, _, _ = decoder_lstm(dec_emb, initial_state = [state_h, state_c])\n"
      ],
      "execution_count": 34,
      "outputs": [
        {
          "output_type": "stream",
          "text": [
            "WARNING:tensorflow:Layer lstm_3 will not use cuDNN kernel since it doesn't meet the cuDNN kernel criteria. It will use generic GPU kernel as fallback when running on GPU\n"
          ],
          "name": "stdout"
        }
      ]
    },
    {
      "cell_type": "code",
      "metadata": {
        "id": "DBHZ_KDp_dNx"
      },
      "source": [
        "# 디코더의 출력층\n",
        "decoder_softmax_layer = Dense(tar_vocab, activation = 'softmax')\n",
        "decoder_softmax_outputs = decoder_softmax_layer(decoder_outputs)"
      ],
      "execution_count": 35,
      "outputs": []
    },
    {
      "cell_type": "code",
      "metadata": {
        "colab": {
          "base_uri": "https://localhost:8080/"
        },
        "id": "bOGlzLRH_eXP",
        "outputId": "a8cfb4f3-8b03-4e07-cdbf-9ea5472d49c6"
      },
      "source": [
        "# 모델 정의\n",
        "model = Model([encoder_inputs, decoder_inputs], decoder_softmax_outputs)\n",
        "model.summary()\n"
      ],
      "execution_count": 36,
      "outputs": [
        {
          "output_type": "stream",
          "text": [
            "Model: \"model\"\n",
            "__________________________________________________________________________________________________\n",
            "Layer (type)                    Output Shape         Param #     Connected to                     \n",
            "==================================================================================================\n",
            "input_1 (InputLayer)            [(None, 50)]         0                                            \n",
            "__________________________________________________________________________________________________\n",
            "embedding (Embedding)           (None, 50, 128)      1024000     input_1[0][0]                    \n",
            "__________________________________________________________________________________________________\n",
            "lstm (LSTM)                     [(None, 50, 256), (N 394240      embedding[0][0]                  \n",
            "__________________________________________________________________________________________________\n",
            "input_2 (InputLayer)            [(None, None)]       0                                            \n",
            "__________________________________________________________________________________________________\n",
            "lstm_1 (LSTM)                   [(None, 50, 256), (N 525312      lstm[0][0]                       \n",
            "__________________________________________________________________________________________________\n",
            "embedding_1 (Embedding)         (None, None, 128)    1280000     input_2[0][0]                    \n",
            "__________________________________________________________________________________________________\n",
            "lstm_2 (LSTM)                   [(None, 50, 256), (N 525312      lstm_1[0][0]                     \n",
            "__________________________________________________________________________________________________\n",
            "lstm_3 (LSTM)                   [(None, None, 256),  394240      embedding_1[0][0]                \n",
            "                                                                 lstm_2[0][1]                     \n",
            "                                                                 lstm_2[0][2]                     \n",
            "__________________________________________________________________________________________________\n",
            "dense (Dense)                   (None, None, 10000)  2570000     lstm_3[0][0]                     \n",
            "==================================================================================================\n",
            "Total params: 6,713,104\n",
            "Trainable params: 6,713,104\n",
            "Non-trainable params: 0\n",
            "__________________________________________________________________________________________________\n"
          ],
          "name": "stdout"
        }
      ]
    },
    {
      "cell_type": "code",
      "metadata": {
        "id": "1IvxwJQ9_mUH"
      },
      "source": [
        "#어텐션 메커니즘\n",
        "\n",
        "urllib.request.urlretrieve(\"https://raw.githubusercontent.com/thushv89/attention_keras/master/src/layers/attention.py\", filename=\"attention.py\")\n",
        "from attention import AttentionLayer\n"
      ],
      "execution_count": 37,
      "outputs": []
    },
    {
      "cell_type": "code",
      "metadata": {
        "colab": {
          "base_uri": "https://localhost:8080/"
        },
        "id": "UzvgNzG5_tfi",
        "outputId": "bf715c32-637b-4483-91dd-ea7462948d21"
      },
      "source": [
        "# 어텐션 층(어텐션 함수)\n",
        "attn_layer = AttentionLayer(name='attention_layer')\n",
        "# 인코더와 디코더의 모든 time step의 hidden state를 어텐션 층에 전달하고 결과를 리턴\n",
        "attn_out, attn_states = attn_layer([encoder_outputs, decoder_outputs])\n",
        "# 어텐션의 결과와 디코더의 hidden state들을 연결\n",
        "decoder_concat_input = Concatenate(axis = -1, name='concat_layer')([decoder_outputs, attn_out])\n",
        "# 디코더의 출력층\n",
        "decoder_softmax_layer = Dense(tar_vocab, activation='softmax')\n",
        "decoder_softmax_outputs = decoder_softmax_layer(decoder_concat_input)\n",
        "# 모델 정의\n",
        "model = Model([encoder_inputs, decoder_inputs], decoder_softmax_outputs)\n",
        "model.summary()\n"
      ],
      "execution_count": 38,
      "outputs": [
        {
          "output_type": "stream",
          "text": [
            "Model: \"model_1\"\n",
            "__________________________________________________________________________________________________\n",
            "Layer (type)                    Output Shape         Param #     Connected to                     \n",
            "==================================================================================================\n",
            "input_1 (InputLayer)            [(None, 50)]         0                                            \n",
            "__________________________________________________________________________________________________\n",
            "embedding (Embedding)           (None, 50, 128)      1024000     input_1[0][0]                    \n",
            "__________________________________________________________________________________________________\n",
            "lstm (LSTM)                     [(None, 50, 256), (N 394240      embedding[0][0]                  \n",
            "__________________________________________________________________________________________________\n",
            "input_2 (InputLayer)            [(None, None)]       0                                            \n",
            "__________________________________________________________________________________________________\n",
            "lstm_1 (LSTM)                   [(None, 50, 256), (N 525312      lstm[0][0]                       \n",
            "__________________________________________________________________________________________________\n",
            "embedding_1 (Embedding)         (None, None, 128)    1280000     input_2[0][0]                    \n",
            "__________________________________________________________________________________________________\n",
            "lstm_2 (LSTM)                   [(None, 50, 256), (N 525312      lstm_1[0][0]                     \n",
            "__________________________________________________________________________________________________\n",
            "lstm_3 (LSTM)                   [(None, None, 256),  394240      embedding_1[0][0]                \n",
            "                                                                 lstm_2[0][1]                     \n",
            "                                                                 lstm_2[0][2]                     \n",
            "__________________________________________________________________________________________________\n",
            "attention_layer (AttentionLayer ((None, None, 256),  131328      lstm_2[0][0]                     \n",
            "                                                                 lstm_3[0][0]                     \n",
            "__________________________________________________________________________________________________\n",
            "concat_layer (Concatenate)      (None, None, 512)    0           lstm_3[0][0]                     \n",
            "                                                                 attention_layer[0][0]            \n",
            "__________________________________________________________________________________________________\n",
            "dense_1 (Dense)                 (None, None, 10000)  5130000     concat_layer[0][0]               \n",
            "==================================================================================================\n",
            "Total params: 9,404,432\n",
            "Trainable params: 9,404,432\n",
            "Non-trainable params: 0\n",
            "__________________________________________________________________________________________________\n"
          ],
          "name": "stdout"
        }
      ]
    },
    {
      "cell_type": "code",
      "metadata": {
        "colab": {
          "base_uri": "https://localhost:8080/"
        },
        "id": "dtMN1bQC_074",
        "outputId": "c41168cb-508c-4080-cb1b-49b87742e399"
      },
      "source": [
        "#training the model\n",
        "\n",
        "model.compile(optimizer='rmsprop', loss='sparse_categorical_crossentropy')\n",
        "es = EarlyStopping(monitor='val_loss', mode='min', verbose=1, patience = 2)\n",
        "history = model.fit(x = [encoder_input_train, decoder_input_train], y = decoder_target_train, \\\n",
        "         validation_data = ([encoder_input_test, decoder_input_test], decoder_target_test),\n",
        "         batch_size = 256, callbacks=[es], epochs = 50)\n"
      ],
      "execution_count": 39,
      "outputs": [
        {
          "output_type": "stream",
          "text": [
            "Epoch 1/50\n",
            "308/308 [==============================] - 227s 698ms/step - loss: 6.6855 - val_loss: 5.8888\n",
            "Epoch 2/50\n",
            "308/308 [==============================] - 214s 695ms/step - loss: 5.8033 - val_loss: 5.4508\n",
            "Epoch 3/50\n",
            "308/308 [==============================] - 214s 695ms/step - loss: 5.3694 - val_loss: 5.1653\n",
            "Epoch 4/50\n",
            "308/308 [==============================] - 214s 694ms/step - loss: 5.0569 - val_loss: 4.9404\n",
            "Epoch 5/50\n",
            "308/308 [==============================] - 213s 692ms/step - loss: 4.8085 - val_loss: 4.8002\n",
            "Epoch 6/50\n",
            "308/308 [==============================] - 214s 694ms/step - loss: 4.6083 - val_loss: 4.6732\n",
            "Epoch 7/50\n",
            "308/308 [==============================] - 213s 693ms/step - loss: 4.4381 - val_loss: 4.5527\n",
            "Epoch 8/50\n",
            "308/308 [==============================] - 214s 694ms/step - loss: 4.2881 - val_loss: 4.4951\n",
            "Epoch 9/50\n",
            "308/308 [==============================] - 213s 691ms/step - loss: 4.1603 - val_loss: 4.4013\n",
            "Epoch 10/50\n",
            "308/308 [==============================] - 214s 694ms/step - loss: 4.0550 - val_loss: 4.3399\n",
            "Epoch 11/50\n",
            "308/308 [==============================] - 213s 691ms/step - loss: 3.9455 - val_loss: 4.2929\n",
            "Epoch 12/50\n",
            "308/308 [==============================] - 213s 691ms/step - loss: 3.8492 - val_loss: 4.2489\n",
            "Epoch 13/50\n",
            "308/308 [==============================] - 211s 686ms/step - loss: 3.7663 - val_loss: 4.2046\n",
            "Epoch 14/50\n",
            "308/308 [==============================] - 213s 692ms/step - loss: 3.6914 - val_loss: 4.1763\n",
            "Epoch 15/50\n",
            "308/308 [==============================] - 212s 690ms/step - loss: 3.6216 - val_loss: 4.1423\n",
            "Epoch 16/50\n",
            "308/308 [==============================] - 212s 690ms/step - loss: 3.5487 - val_loss: 4.1227\n",
            "Epoch 17/50\n",
            "308/308 [==============================] - 212s 690ms/step - loss: 3.4895 - val_loss: 4.0993\n",
            "Epoch 18/50\n",
            "308/308 [==============================] - 212s 688ms/step - loss: 3.4385 - val_loss: 4.0826\n",
            "Epoch 19/50\n",
            "308/308 [==============================] - 212s 689ms/step - loss: 3.3814 - val_loss: 4.0690\n",
            "Epoch 20/50\n",
            "308/308 [==============================] - 212s 688ms/step - loss: 3.3372 - val_loss: 4.0525\n",
            "Epoch 21/50\n",
            "308/308 [==============================] - 212s 687ms/step - loss: 3.2866 - val_loss: 4.0437\n",
            "Epoch 22/50\n",
            "308/308 [==============================] - 212s 689ms/step - loss: 3.2439 - val_loss: 4.0267\n",
            "Epoch 23/50\n",
            "308/308 [==============================] - 212s 688ms/step - loss: 3.2090 - val_loss: 4.0252\n",
            "Epoch 24/50\n",
            "308/308 [==============================] - 212s 687ms/step - loss: 3.1587 - val_loss: 4.0154\n",
            "Epoch 25/50\n",
            "308/308 [==============================] - 213s 691ms/step - loss: 3.1295 - val_loss: 4.0079\n",
            "Epoch 26/50\n",
            "308/308 [==============================] - 212s 689ms/step - loss: 3.0927 - val_loss: 4.0021\n",
            "Epoch 27/50\n",
            "308/308 [==============================] - 211s 686ms/step - loss: 3.0510 - val_loss: 4.0010\n",
            "Epoch 28/50\n",
            "308/308 [==============================] - 209s 678ms/step - loss: 3.0198 - val_loss: 4.0032\n",
            "Epoch 29/50\n",
            "308/308 [==============================] - 210s 681ms/step - loss: 2.9872 - val_loss: 3.9935\n",
            "Epoch 30/50\n",
            "308/308 [==============================] - 210s 680ms/step - loss: 2.9673 - val_loss: 3.9873\n",
            "Epoch 31/50\n",
            "308/308 [==============================] - 211s 684ms/step - loss: 2.9286 - val_loss: 3.9846\n",
            "Epoch 32/50\n",
            "308/308 [==============================] - 211s 685ms/step - loss: 2.9017 - val_loss: 3.9815\n",
            "Epoch 33/50\n",
            "308/308 [==============================] - 210s 681ms/step - loss: 2.8793 - val_loss: 3.9843\n",
            "Epoch 34/50\n",
            "308/308 [==============================] - 209s 680ms/step - loss: 2.8567 - val_loss: 3.9789\n",
            "Epoch 35/50\n",
            "308/308 [==============================] - 210s 682ms/step - loss: 2.8280 - val_loss: 3.9743\n",
            "Epoch 36/50\n",
            "308/308 [==============================] - 210s 682ms/step - loss: 2.8076 - val_loss: 3.9824\n",
            "Epoch 37/50\n",
            "308/308 [==============================] - 212s 687ms/step - loss: 2.7834 - val_loss: 3.9650\n",
            "Epoch 38/50\n",
            "308/308 [==============================] - 213s 691ms/step - loss: 2.7556 - val_loss: 3.9746\n",
            "Epoch 39/50\n",
            "308/308 [==============================] - 211s 685ms/step - loss: 2.7447 - val_loss: 3.9792\n",
            "Epoch 00039: early stopping\n"
          ],
          "name": "stdout"
        }
      ]
    },
    {
      "cell_type": "code",
      "metadata": {
        "id": "4Y5S1Kq7Fjfe",
        "colab": {
          "base_uri": "https://localhost:8080/",
          "height": 269
        },
        "outputId": "ceea143d-d8b3-4469-e41b-b835af0c51e0"
      },
      "source": [
        "plt.plot(history.history['loss'], label='train')\n",
        "plt.plot(history.history['val_loss'], label='test')\n",
        "plt.legend()\n",
        "plt.show()"
      ],
      "execution_count": 40,
      "outputs": [
        {
          "output_type": "display_data",
          "data": {
            "image/png": "[encoded data removed]",
            "text/plain": [
              "<Figure size 432x288 with 1 Axes>"
            ]
          },
          "metadata": {
            "tags": [],
            "needs_background": "light"
          }
        }
      ]
    },
    {
      "cell_type": "code",
      "metadata": {
        "id": "cAA_5eDrF8Z_"
      },
      "source": [
        "src_index_to_word = src_tokenizer.index_word # 원문 단어 집합에서 정수 -> 단어를 얻음\n",
        "tar_word_to_index = tar_tokenizer.word_index # 요약 단어 집합에서 단어 -> 정수를 얻음\n",
        "tar_index_to_word = tar_tokenizer.index_word # 요약 단어 집합에서 정수 -> 단어를 얻음\n"
      ],
      "execution_count": 41,
      "outputs": []
    },
    {
      "cell_type": "code",
      "metadata": {
        "id": "FTqz5FlbF_Fi"
      },
      "source": [
        "# 인코더 설계\n",
        "encoder_model = Model(inputs=encoder_inputs, outputs=[encoder_outputs, state_h, state_c])\n",
        "# 이전 시점의 상태들을 저장하는 텐서\n",
        "decoder_state_input_h = Input(shape=(hidden_size,))\n",
        "decoder_state_input_c = Input(shape=(hidden_size,))\n",
        "\n",
        "dec_emb2 = dec_emb_layer(decoder_inputs)\n",
        "# 문장의 다음 단어를 예측하기 위해서 초기 상태(initial_state)를 이전 시점의 상태로 사용. 이는 뒤의 함수 decode_sequence()에 구현\n",
        "# 훈련 과정에서와 달리 LSTM의 리턴하는 은닉 상태와 셀 상태인 state_h와 state_c를 버리지 않음.\n",
        "decoder_outputs2, state_h2, state_c2 = decoder_lstm(dec_emb2, initial_state=[decoder_state_input_h, decoder_state_input_c])\n"
      ],
      "execution_count": 44,
      "outputs": []
    },
    {
      "cell_type": "code",
      "metadata": {
        "id": "MRLboBu6GC6z"
      },
      "source": [
        "# 어텐션 함수\n",
        "decoder_hidden_state_input = Input(shape=(text_max_len, hidden_size))\n",
        "attn_out_inf, attn_states_inf = attn_layer([decoder_hidden_state_input, decoder_outputs2])\n",
        "decoder_inf_concat = Concatenate(axis=-1, name='concat')([decoder_outputs2, attn_out_inf])\n",
        "#디코더의 출력층\n",
        "decoder_outputs2 = decoder_softmax_layer(decoder_inf_concat)\n",
        "#최종 디코더 모델\n",
        "decoder_model = Model(\n",
        "   [decoder_inputs] + [decoder_hidden_state_input,decoder_state_input_h, decoder_state_input_c],\n",
        "   [decoder_outputs2] + [state_h2, state_c2])"
      ],
      "execution_count": 49,
      "outputs": []
    },
    {
      "cell_type": "code",
      "metadata": {
        "id": "XMhbayXNGEV0"
      },
      "source": [
        "def decode_sequence(input_seq):\n",
        "   # 입력으로부터 인코더의 상태를 얻음\n",
        "   e_out, e_h, e_c = encoder_model.predict(input_seq)\n",
        "   # <SOS>에 해당하는 토큰 생성\n",
        "   target_seq = np.zeros((1,1))\n",
        "   target_seq[0, 0] = tar_word_to_index['sostoken']\n",
        "\n",
        "   stop_condition = False\n",
        "   decoded_sentence = ''\n",
        "   while not stop_condition: # stop_condition이 True가 될 때까지 루프 반복\n",
        "\n",
        "       output_tokens, h, c = decoder_model.predict([target_seq] + [e_out, e_h, e_c])\n",
        "       sampled_token_index = np.argmax(output_tokens[0, -1, :])\n",
        "       sampled_token = tar_index_to_word[sampled_token_index]\n",
        "\n",
        "       if(sampled_token!='eostoken'):\n",
        "           decoded_sentence += ' '+sampled_token\n",
        "       #  <eos>에 도달하거나 최대 길이를 넘으면 중단.\n",
        "       if (sampled_token == 'eostoken'  or len(decoded_sentence.split()) >= (headlines_max_len-1)):\n",
        "           stop_condition = True\n",
        "\n",
        "       # 길이가 1인 타겟 시퀀스를 업데이트\n",
        "       target_seq = np.zeros((1,1))\n",
        "       target_seq[0, 0] = sampled_token_index\n",
        "\n",
        "       # 상태를 업데이트 합니다.\n",
        "       e_h, e_c = h, c\n",
        "\n",
        "   return decoded_sentence\n"
      ],
      "execution_count": 56,
      "outputs": []
    },
    {
      "cell_type": "code",
      "metadata": {
        "id": "Xs0ySy4qGHsT"
      },
      "source": [
        "# 원문의 정수 시퀀스를 텍스트 시퀀스로 변환\n",
        "def seq2text(input_seq):\n",
        "   temp=''\n",
        "   for i in input_seq:\n",
        "       if(i!=0):\n",
        "           temp = temp + src_index_to_word[i]+' '\n",
        "   return temp\n",
        "# 요약문의 정수 시퀀스를 텍스트 시퀀스로 변환\n",
        "def seq2summary(input_seq):\n",
        "   temp=''\n",
        "   for i in input_seq:\n",
        "       if((i!=0 and i!=tar_word_to_index['sostoken']) and i!=tar_word_to_index['eostoken']):\n",
        "           temp = temp + tar_index_to_word[i] + ' '\n",
        "   return temp\n"
      ],
      "execution_count": 59,
      "outputs": []
    },
    {
      "cell_type": "code",
      "metadata": {
        "colab": {
          "base_uri": "https://localhost:8080/"
        },
        "id": "iPNGkglFGYFZ",
        "outputId": "1869c1de-5afa-4b69-eaef-061c097fb195"
      },
      "source": [
        "for i in range(50, 100):\n",
        "   print(\"원문 :\", seq2text(encoder_input_test[i]))\n",
        "   print(\"실제 요약 :\", seq2summary(decoder_input_test[i]))\n",
        "   print(\"예측 요약 :\", decode_sequence(encoder_input_test[i].reshape(1, text_max_len)))\n",
        "   print(\"\\n\")\n",
        "\n",
        "  "
      ],
      "execution_count": 60,
      "outputs": [
        {
          "output_type": "stream",
          "text": [
            "원문 : elephants treated fruit organised raise awareness animals thailand elephant day elephants dressed blessed holy water plan reduce exploitation elephants much possible said manager place took place nn \n",
            "실제 요약 : thailand organises for elephants to mark elephant day \n",
            "예측 요약 :  assam residents to get km to clean\n",
            "\n",
            "\n",
            "원문 : us based researchers developed solar energy generate hydrogen onto surface film material energy visible near light making least twice efficient current said researchers \n",
            "실제 요약 : hydrogen fuel from using solar power \n",
            "예측 요약 :  solar system that can detect electricity made\n",
            "\n",
            "\n",
            "원문 : jharkhand government directed government private doctors ensure written clear capital letters based notification medical council india violation would lead warning first time suspension certain period second cancellation registration third \n",
            "실제 요약 : write in capital letters khand warns doctors \n",
            "예측 요약 :  khand govt orders doctors to write on civil services\n",
            "\n",
            "\n",
            "원문 : union home minister rajnath singh tuesday said centre law necessary curb rising incidents across india statement came opposition parties including congress bsp slammed government alwar lynching case man allegedly beaten death suspected cow rajasthan alwar \n",
            "실제 요약 : centre will law against lynchings if needed rajnath \n",
            "예측 요약 :  rajnath singh seeks law to support india for violence\n",
            "\n",
            "\n",
            "원문 : maharashtra food drugs administration minister told state legislative council sale made non bailable offence attract three year jail term centre given us permission added offence presently bailable punishable maximum six months jail \n",
            "실제 요약 : maha to make sale non bailable offence with yr term \n",
            "예측 요약 :  maharashtra to probe in property of maharashtra\n",
            "\n",
            "\n",
            "원문 : shahid kapoor confirmed starring hindi remake telugu film arjun reddy team arjun reddy ready go wish us luck guys wrote caption tweet featuring picture film team members sandeep reddy directorial revolves around character turns drug break \n",
            "실제 요약 : shahid kapoor confirms he will star in arjun reddy \n",
            "예측 요약 :  shahid kapoor shahid shahid starrer shahid remake remake report\n",
            "\n",
            "\n",
            "원문 : us president donald trump wednesday fired country attorney general jeff sessions year inquiry president links russia matthew critic russia investigation appointed acting attorney general trump earlier criticised sessions saying never took control justice department \n",
            "실제 요약 : trump fires us attorney general jeff sessions \n",
            "예측 요약 :  trump lawyer to be probed fbi chief\n",
            "\n",
            "\n",
            "원문 : ajay narayan secretary department expenditure appointed new finance secretary succeed retired november government order said monday fifty nine year old batch ias officer manipur tripura st college passed first class post history \n",
            "실제 요약 : an to take over as new finance secretary from \n",
            "예측 요약 :  who is appointed new chief secretary\n",
            "\n",
            "\n",
            "원문 : man suspected member pro group thursday arrested uttar pradesh allegedly ex punjab cm singh badal public rally sad leader anti stance police said badal son daughter law union minister kaur also allegedly \n",
            "실제 요약 : khalistan suspect held for plot to murder ex punjab cm \n",
            "예측 요약 :  man arrested for not joining haryana cm\n",
            "\n",
            "\n",
            "원문 : us court monday partially blocked president donald trump ban transgender people serving country military comes court considering petition claiming ban violates transgender service members constitutional right equal protection however court refused lift ban government funding gender surgery \n",
            "실제 요약 : us court blocks prez trump ban on transgenders in military \n",
            "예측 요약 :  us court allows trump travel ban for transgenders\n",
            "\n",
            "\n",
            "원문 : speaking india today mind rocks taapsee pannu revealed first relationship ninth standard added thought late compared friends left months tha tenth ke boards hai said taapsee revealed used call cry phone \n",
            "실제 요약 : st boyfriend dumped me because of class board exams taapsee \n",
            "예측 요약 :  was st time to join my relationship taapsee pannu\n",
            "\n",
            "\n",
            "원문 : pakistani news anchor caught middle fingers news ongoing asia cup video shared twitter journalist syed caption panel producer much switch journalism co anchor seen laughing briefly camera started rolling \n",
            "실제 요약 : pak news anchor caught showing middle finger on national tv \n",
            "예측 요약 :  pak news channel denies reports of india\n",
            "\n",
            "\n",
            "원문 : facebook developed wearable device allows users receive messages without looking smart devices feel skin system pattern representing words message users arm purpose reports said people able learn words accuracy minutes training \n",
            "실제 요약 : facebook wearable lets users feel messages \n",
            "예측 요약 :  facebook tests feature to let users using ai\n",
            "\n",
            "\n",
            "원문 : indian premier league sides rajasthan royals kolkata knight riders announce new captains live tv first time rajasthan royals returning tournament two year ban name skipper saturday kolkata knight riders name march tournament set begin april \n",
            "실제 요약 : ipl sides rr kkr to name captains live on \n",
            "예측 요약 :  ipl winning captain to be held for ipl\n",
            "\n",
            "\n",
            "원문 : union minister minority affairs mukhtar abbas naqvi wednesday india highest tricolour installed terrace building haj house mumbai measuring feet flag height metres top building also enhance pride mumbai neighbouring regions minister said \n",
            "실제 요약 : india highest tricolour on terrace in mumbai \n",
            "예측 요약 :  union min to build world highest in india\n",
            "\n",
            "\n",
            "원문 : singer singh said get married soon jump well die year old singer revealed music composer ar rahman get married want relationship want feel special added \n",
            "실제 요약 : if don get married in ll kill myself \n",
            "예측 요약 :  singer adnan to marry her wife in months\n",
            "\n",
            "\n",
            "원문 : per reports india censor board removed love making scene co star film atomic scenes showing breast showing also reportedly ordered film released certificate india \n",
            "실제 요약 : censors remove lesbian sex scene in atomic report \n",
            "예측 요약 :  censor board bans report of sridevi scenes report\n",
            "\n",
            "\n",
            "원문 : indian chef anand whose bangkok based indian restaurant rated asia best restaurant three consecutive years returning india four city tour visit mumbai delhi bengaluru chennai create menu taj hotels notably chef recently announced would close award winning restaurant \n",
            "실제 요약 : asia top rated chef anand returns to india for tour \n",
            "예측 요약 :  indian indian origin doctor named world best indian accent\n",
            "\n",
            "\n",
            "원문 : rejecting centre call dialogue body joint leadership said accept anything less freedom india comes former intelligence bureau director sharma appointed begin sustained dialogue group also called strike october protest indian army kashmir \n",
            "실제 요약 : separatist body rejects centre call for dialogue \n",
            "예측 요약 :  india is not to press secy slams govt\n",
            "\n",
            "\n",
            "원문 : american package delivery company confirmed hit breach reportedly leaked passports driving licences security one lakh customers data belonged international bought located server hosted third party claimed information \n",
            "실제 요약 : confirms breach passports driving licences leaked \n",
            "예측 요약 :  mobile phone data from us citizens arrested\n",
            "\n",
            "\n",
            "원문 : maharashtra sena chief raj thackeray slammed prime minister narendra modi allegedly supporting social media trolls silence voices stating support could lead thackeray alleged bjp police opposition bjp uses social media trick common man claimed \n",
            "실제 요약 : pm modi support to trolls can lead to mns chief \n",
            "예측 요약 :  thackeray slams pm modi for remarks on her remarks\n",
            "\n",
            "\n",
            "원문 : least indians sought asylum us last year un refugee agency said revealed annual global trends report us received largest number asylum requests highest number claims filed afghan nationals wars violence led million people globally \n",
            "실제 요약 : indians sought asylum in the us in un \n",
            "예측 요약 :  indians can return to un asylum in countries report\n",
            "\n",
            "\n",
            "원문 : side leg side travel done side one rider would mount slip position named could take advantage slip batsman point named stand close batsman \n",
            "실제 요약 : how did cricket fielding positions get their names \n",
            "예측 요약 :  man utd to get new season\n",
            "\n",
            "\n",
            "원문 : museum dedicated former future prime ministers built delhi teen bhavan served jawaharlal nehru official residence pm death office structure separate existing museum dedicated nehru decision taken amidst opposition congress leaders claimed would nehru legacy \n",
            "실제 요약 : museum for all to be built at nehru former residence \n",
            "예측 요약 :  former pm announces new house to visit home\n",
            "\n",
            "\n",
            "원문 : commerce major flipkart talks future group ceo kishore buy stake fashion arm future lifestyle flipkart owned myntra also fashion likely partnership reports said future lifestyle owns markets fashion brands including lee indigo nation john \n",
            "실제 요약 : in talks to buy stake in future group fashion arm \n",
            "예측 요약 :  flipkart to sell stake in fashion week report\n",
            "\n",
            "\n",
            "원문 : union ministers prakash javadekar mukhtar abbas naqvi unveiled kg occasion pm narendra modi th birthday monday international social service organisation organised function celebrated pm modi birthday sanitation coverage country grew pm modi leadership javadekar said event \n",
            "실제 요약 : union ministers unveil kg on pm modi th day \n",
            "예측 요약 :  union minister seeks guinness record for pm modi\n",
            "\n",
            "\n",
            "원문 : several muslim majority nations like turkey iran iraq done away triple talaq indian government recently told supreme court triple talaq essential islam indonesia world highest muslim population already banned instant divorce practice india neighbours pakistan bangladesh sri lanka also triple talaq \n",
            "실제 요약 : which countries have banned the practice of triple talaq \n",
            "예측 요약 :  iran prez to triple talaq for muslims in india\n",
            "\n",
            "\n",
            "원문 : bengaluru police arrested accused cheating women sites money promising marry police said man introduced divorced women websites gained trust large money added kept changing names cheat women \n",
            "실제 요약 : man who cheated over women on matrimonial sites arrested \n",
            "예측 요약 :  bengaluru police arrest racket for duping women\n",
            "\n",
            "\n",
            "원문 : man charged christmas eve attempting smuggle long live onto hiding cloth bag inside pants germany berlin airport stopped searched security noticed large reportedly trying smuggle israel fined \n",
            "실제 요약 : live snake on plane by hiding it in his pants \n",
            "예측 요약 :  man caught with kg baggage caught in luggage\n",
            "\n",
            "\n",
            "원문 : parineeti chopra said would lying said crore benchmark matter matters every actor shows accepting much love added parineeti whose recently released film earned crore india said loving feeling right \n",
            "실제 요약 : be lying if said cr club does not matter parineeti \n",
            "예측 요약 :  never thought about cr less than expected parineeti\n",
            "\n",
            "\n",
            "원문 : firing catalonia regional government parliament spain handed region control country deputy pm comes following catalonia declaration independence spain crisis began catalan leaders held independence referendum ruling spanish constitutional court declared bid illegal \n",
            "실제 요약 : spain takes charge of catalonia makes deputy pm its head \n",
            "예측 요약 :  spain mps quit spain amid independence crisis\n",
            "\n",
            "\n",
            "원문 : filmmaker shankar took social media actress jackson look rajinikanth starrer upcoming film reportedly play robot film sequel film also stars akshay kumar scheduled release january \n",
            "실제 요약 : amy jackson look from rajinikanth unveiled \n",
            "예측 요약 :  rajinikanth to star in rajinikanth starrer remake\n",
            "\n",
            "\n",
            "원문 : madras high court upheld two year sentence ousted aiadmk chief vk sasikala husband three others connection illegal purchase imported car according cbi others car change vehicle manufacturing date sasikala nephew also one accused case \n",
            "실제 요약 : madras hc upholds year jail term for vk sasikala husband \n",
            "예측 요약 :  hc upholds sasikala husband order on sasikala bribery case\n",
            "\n",
            "\n",
            "원문 : lakh air pollution deaths every year caused due dirty air generated production goods one region consumption another study revealed imports europe linked lakh overseas deaths year us consumption caused lakh deaths study added \n",
            "실제 요약 : global trade causes over premature air pollution deaths \n",
            "예측 요약 :  over lakh pollution reported in air india study\n",
            "\n",
            "\n",
            "원문 : sonakshi sinha reportedly make cameo appearance salman khan starrer race film also stars jacqueline fernandez bobby deol anil kapoor daisy shah directed remo souza film marks salman remo first project together actor director race third instalment race franchise release eid \n",
            "실제 요약 : sonakshi to make cameo in salman starrer race report \n",
            "예측 요약 :  sonakshi sonakshi to star in race race report\n",
            "\n",
            "\n",
            "원문 : animal trainer filmed putting red lipstick whale north china criticised actions internet users called animal abuse trainer heard telling whale getting applying lipstick animal rights organisation local authorities investigating incident \n",
            "실제 요약 : chinese animal trainer slammed for putting lipstick on whale \n",
            "예측 요약 :  blue whale game lets users kill themselves\n",
            "\n",
            "\n",
            "원문 : hussain one lawyers led protest seeking justice kathua gangrape victim booked alleged domestic violence attempt kill wife dowry brother also booked allegedly molesting wife reports said couple got married two kids \n",
            "실제 요약 : man who led kathua rape protest booked for domestic violence \n",
            "예측 요약 :  court rejects rape accused in rape case against nun\n",
            "\n",
            "\n",
            "원문 : maharashtra sena transport wing called strike ola drivers third day holding talks officials cab hailing startup however uber drivers asked continue strike talks uber officials thursday besides mumbai drivers major cities india participate large numbers reports said \n",
            "실제 요약 : drivers end strike on rd day uber drivers to continue \n",
            "예측 요약 :  maha govt to start uber drivers in mumbai\n",
            "\n",
            "\n",
            "원문 : reacting one year ban handed australian cricketers david warner steve smith ball tampering scandal cricket legend sachin tendulkar said right decision taken game believe played form added sachin sachin also accused ball tampering later cleared charges \n",
            "실제 요약 : right decision has been taken sachin on smith warner ban \n",
            "예측 요약 :  sachin should not be banned from sachin australia pacer\n",
            "\n",
            "\n",
            "원문 : girl tripura committed suicide allegedly harassed staff shopping mall girl also expelled school incident girl friends accompanying said staff falsely charged stealing even show cctv footage prove charges \n",
            "실제 요약 : girl kills self after mall staff harass her for \n",
            "예측 요약 :  kerala girl commits suicide after friend alleges dating video\n",
            "\n",
            "\n",
            "원문 : many missing children traced last months aadhaar unique identification authority india ceo ajay bhushan pandey said addressing conference said children aadhaar helped identifying missing children found many cases biometric identification kids already \n",
            "실제 요약 : missing children traced through aadhaar uidai \n",
            "예측 요약 :  missing children aadhaar enrolment uidai ceo\n",
            "\n",
            "\n",
            "원문 : european parliament thursday voted copyright law would ban usage memes internet users law sent full debate inside parliament law claimed would restrict internet freedom requiring social media giants pay use content \n",
            "실제 요약 : european parliament rejects law that would ban memes \n",
            "예측 요약 :  eu parliament votes to ban on ads on ads\n",
            "\n",
            "\n",
            "원문 : union minister kiren rijiju escaped tuesday chopper made emergency landing small field due bad weather helicopter carrying seven passengers crew members flying assam guwahati arunachal pradesh lucky enough landed safely thanks bsf pilots experienced rijiju said \n",
            "실제 요약 : rijiju escapes unhurt as chopper makes emergency landing \n",
            "예측 요약 :  defence minister blames emergency landing over ac chopper\n",
            "\n",
            "\n",
            "원문 : cab aggregator ola acquired india germany based delivery hero group million delivery hero reportedly invested million ola acquiring stake ride hailing company part deal acquisition marked ola return indian online food delivery space ola cafe shut march \n",
            "실제 요약 : ola acquired stake in foodpanda india for million \n",
            "예측 요약 :  ola acquires bike rental startup raises million\n",
            "\n",
            "\n",
            "원문 : mohammad shami wife hasin jahan said cricketer wants get married bollywood actress like virat kohli thinks made big mistake marrying gave career job getting married shami added shami keeps asking divorce said \n",
            "실제 요약 : like kohli shami wants to marry wood actress jahan \n",
            "예측 요약 :  cricketer reveals he is angad and marry him\n",
            "\n",
            "\n",
            "원문 : singh become first indian qualify final round javelin throw world championships metre throw london thursday year old athlete cleared metre automatic mark third final attempt meanwhile junior world champion india neeraj chopra failed qualify finals \n",
            "실제 요약 : first indian to reach javelin throw world ships final \n",
            "예측 요약 :  indian squash team becomes india st indian champion\n",
            "\n",
            "\n",
            "원문 : website shut canada based phone campaign violated website terms use website claimed received reports nearly version smartphone already available china commerce platform alibaba also confirmed smartphone \n",
            "실제 요약 : stops phone campaign for violating terms of use \n",
            "예측 요약 :  website shuts down website to make mobile website\n",
            "\n",
            "\n",
            "원문 : bhuvneshwar singh youth wing leader group announced offer reward crore anyone burns deepika padukone alive ongoing padmavati row deepika know feels like burnt alive actress never know sacrifice queen added singh \n",
            "실제 요약 : group offers crore for burning deepika alive \n",
            "예측 요약 :  delhi shah offers reward for deepika to cr reward\n",
            "\n",
            "\n",
            "원문 : man died tuesday fell human formation celebrating maharashtra area deceased rohan reportedly suffered formation rushed nearby hospital declared dead arrival police registered case accidental death \n",
            "실제 요약 : man dies after falling during maharashtra event \n",
            "예측 요약 :  man dies after falling into gorge in maharashtra\n",
            "\n",
            "\n",
            "원문 : uber reportedly reduced number sensors used detect objects road self driving cars shifted ford new vehicles feature one roof sensor compared seven units older ford models comes uber self driving car killed woman us \n",
            "실제 요약 : uber reduced sensors on its self driving cars reports \n",
            "예측 요약 :  uber to let users take self driving cars\n",
            "\n",
            "\n"
          ],
          "name": "stdout"
        }
      ]
    },
    {
      "cell_type": "markdown",
      "metadata": {
        "id": "-v9Q4BRrGls8"
      },
      "source": [
        "#추출적 요약 해보기\n"
      ]
    },
    {
      "cell_type": "code",
      "metadata": {
        "id": "8zBk5MOCGlH_",
        "colab": {
          "base_uri": "https://localhost:8080/"
        },
        "outputId": "0ffbcc05-e219-46cc-95a4-8fde52313ab7"
      },
      "source": [
        "!pip install summa"
      ],
      "execution_count": 61,
      "outputs": [
        {
          "output_type": "stream",
          "text": [
            "Collecting summa\n",
            "\u001b[?25l  Downloading https://files.pythonhosted.org/packages/45/3b/1c7dc435d05aef474c4137328400f1e11787b9bffab1f87a3f160c1fef54/summa-1.2.0.tar.gz (54kB)\n",
            "\r\u001b[K     |██████                          | 10kB 21.0MB/s eta 0:00:01\r\u001b[K     |████████████                    | 20kB 15.7MB/s eta 0:00:01\r\u001b[K     |██████████████████              | 30kB 14.1MB/s eta 0:00:01\r\u001b[K     |███████████████████████▉        | 40kB 13.0MB/s eta 0:00:01\r\u001b[K     |█████████████████████████████▉  | 51kB 11.2MB/s eta 0:00:01\r\u001b[K     |████████████████████████████████| 61kB 5.0MB/s \n",
            "\u001b[?25hRequirement already satisfied: scipy>=0.19 in /usr/local/lib/python3.6/dist-packages (from summa) (1.4.1)\n",
            "Requirement already satisfied: numpy>=1.13.3 in /usr/local/lib/python3.6/dist-packages (from scipy>=0.19->summa) (1.19.5)\n",
            "Building wheels for collected packages: summa\n",
            "  Building wheel for summa (setup.py) ... \u001b[?25l\u001b[?25hdone\n",
            "  Created wheel for summa: filename=summa-1.2.0-cp36-none-any.whl size=54412 sha256=234baf85b79afba4e2b37b06bc94dccf0f721bbd163972fdf4e5c2a69dd41819\n",
            "  Stored in directory: /root/.cache/pip/wheels/6a/09/68/e2f2861c01d86407c3fa5220826ed7eed2abaa56b001be5970\n",
            "Successfully built summa\n",
            "Installing collected packages: summa\n",
            "Successfully installed summa-1.2.0\n"
          ],
          "name": "stdout"
        }
      ]
    },
    {
      "cell_type": "code",
      "metadata": {
        "id": "Qq9Kj2VDG1dj"
      },
      "source": [
        "import requests\n",
        "from summa.summarizer import summarize\n"
      ],
      "execution_count": 62,
      "outputs": []
    },
    {
      "cell_type": "code",
      "metadata": {
        "id": "AIPTeUa2G20I",
        "colab": {
          "base_uri": "https://localhost:8080/"
        },
        "outputId": "51cfd8a5-8dcd-457e-fbf9-f646370b3b0a"
      },
      "source": [
        "text = requests.get('https://raw.githubusercontent.com/sunnysai12345/News_Summary/master/news_summary_more.csv').text\n",
        "\n",
        "print(text[:1500])"
      ],
      "execution_count": 65,
      "outputs": [
        {
          "output_type": "stream",
          "text": [
            "headlines,text\n",
            "upGrad learner switches to career in ML & Al with 90% salary hike,\"Saurav Kant, an alumnus of upGrad and IIIT-B's PG Program in Machine learning and Artificial Intelligence, was a Sr Systems Engineer at Infosys with almost 5 years of work experience. The program and upGrad's 360-degree career support helped him transition to a Data Scientist at Tech Mahindra with 90% salary hike. upGrad's Online Power Learning has powered 3 lakh+ careers.\"\n",
            "Delhi techie wins free food from Swiggy for one year on CRED,\"Kunal Shah's credit card bill payment platform, CRED, gave users a chance to win free food from Swiggy for one year. Pranav Kaushik, a Delhi techie, bagged this reward after spending 2000 CRED coins. Users get one CRED coin per rupee of bill paid, which can be used to avail rewards from brands like Ixigo, BookMyShow, UberEats, Cult.Fit and more.\"\n",
            "New Zealand end Rohit Sharma-led India's 12-match winning streak,\"New Zealand defeated India by 8 wickets in the fourth ODI at Hamilton on Thursday to win their first match of the five-match ODI series. India lost an international match under Rohit Sharma's captaincy after 12 consecutive victories dating back to March 2018. The match witnessed India getting all out for 92, their seventh lowest total in ODI cricket history.\"\n",
            "Aegon life iTerm insurance plan helps customers save tax,\"With Aegon Life iTerm Insurance plan, customers can enjoy tax benefits on your premiums paid and save up to â¹46,800^ on taxes. The plan provid\n"
          ],
          "name": "stdout"
        }
      ]
    },
    {
      "cell_type": "code",
      "metadata": {
        "id": "J_HZcfx9HBqw",
        "colab": {
          "base_uri": "https://localhost:8080/"
        },
        "outputId": "3f183e76-5ea4-4424-f073-3227c11f45c0"
      },
      "source": [
        "print('headlines:')\n",
        "print(summarize(text, ratio=0.005))"
      ],
      "execution_count": null,
      "outputs": [
        {
          "output_type": "stream",
          "text": [
            "headlines:\n"
          ],
          "name": "stdout"
        }
      ]
    },
    {
      "cell_type": "code",
      "metadata": {
        "id": "jzS5J7GjHG0K"
      },
      "source": [
        ""
      ],
      "execution_count": null,
      "outputs": []
    }
  ]
}